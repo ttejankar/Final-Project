{
 "cells": [
  {
   "cell_type": "markdown",
   "id": "c2974b53-f8f4-4a64-ac4c-4859eaa86d1e",
   "metadata": {},
   "source": [
    "### Conclusion"
   ]
  },
  {
   "cell_type": "markdown",
   "id": "6ed77c33-fef6-49c6-962b-cfab1d183952",
   "metadata": {},
   "source": [
    "#### The best neighborhood: Oakland"
   ]
  },
  {
   "cell_type": "markdown",
   "id": "e9b5258d-ad25-49f4-8ac6-ea22e9dea6ba",
   "metadata": {},
   "source": [
    "Final Score: 82/100"
   ]
  },
  {
   "cell_type": "markdown",
   "id": "082fed9f-366d-4cbd-8efb-dc6f8723598d",
   "metadata": {},
   "source": [
    "Based on our data Pittburgh's best neighborhood is Oakland. "
   ]
  },
  {
   "cell_type": "markdown",
   "id": "f280533a-47e8-4e15-b189-bd3349dbd3c4",
   "metadata": {},
   "source": [
    "With how accessible buildings can be in the area, Oakland allows for you to be able to walk to whatever location you need to go to. This neighborhood also allows for many opportunities for jobs, community engagement, food, shopping, exploration and more. With its blend of convenience, connectivity, and opportunities for exploration, Oakland provides a vibrant, engaged community for anyone within it."
   ]
  },
  {
   "cell_type": "markdown",
   "id": "4fcf42aa-9490-48f7-bc17-7a75cd4e0a60",
   "metadata": {},
   "source": [
    "#### Ranked with other neighborhoods:"
   ]
  },
  {
   "cell_type": "markdown",
   "id": "bc29f4ec-92e2-48e9-a05b-fc2bd2e837df",
   "metadata": {},
   "source": [
    "1. Oakland 82/100"
   ]
  },
  {
   "cell_type": "markdown",
   "id": "56146ecd-cf0c-4556-b152-c00ef2b665b6",
   "metadata": {},
   "source": [
    "2. Highland Park 80/100"
   ]
  },
  {
   "cell_type": "markdown",
   "id": "7cb84257-0011-4310-95b8-047dd9b5af60",
   "metadata": {},
   "source": [
    "3. Squirrel Hill 77/100"
   ]
  },
  {
   "cell_type": "markdown",
   "id": "29428822-1a86-480d-9bbd-a674d44922cd",
   "metadata": {},
   "source": [
    "4. Strip District 74/100"
   ]
  },
  {
   "cell_type": "markdown",
   "id": "aca6c778-85d2-460e-b5fa-c91c86da9bf8",
   "metadata": {},
   "source": [
    "5. Brookline 73/100"
   ]
  },
  {
   "cell_type": "markdown",
   "id": "a921cb91-00d9-4ffd-9ec9-bd8268086201",
   "metadata": {},
   "source": [
    "..."
   ]
  },
  {
   "cell_type": "markdown",
   "id": "8dbde493-4e00-4007-a0de-7057cf1d467a",
   "metadata": {},
   "source": [
    "**Personal Conclusions**"
   ]
  },
  {
   "cell_type": "markdown",
   "id": "2278ebd1-797d-4864-8688-6627608c5100",
   "metadata": {},
   "source": [
    "Tan"
   ]
  },
  {
   "cell_type": "markdown",
   "id": "fec7fd34-1b13-4366-ad7e-3a4bf8c3593b",
   "metadata": {},
   "source": [
    "Although the data we analyzed points to Oakland being the “best” neighborhood, my personal favorites are Lawrenceville and East Liberty due the abundance of thrift stores and coffee shops in the area. If our sub-metrics that decided “bestness” were based on different criteria, such as access to unique local businesses, or restaurants, the results might have been different. This demonstrates how subjective “bestness” can be, depending on what factors are most important to an individual."
   ]
  },
  {
   "cell_type": "markdown",
   "id": "ef13d34b-00ce-4c5a-83a9-9696fbe74b81",
   "metadata": {},
   "source": [
    "Liana"
   ]
  },
  {
   "cell_type": "markdown",
   "id": "37171de9-72fa-4d01-abda-9abecaf69b7a",
   "metadata": {},
   "source": [
    "Even though we concluded that Oakland was the best neighborhood in Pittsburgh with the data we analyzed, Squirrel Hill is my favorite neighborhood because of it's silly name and the interesting, mysterious feel the area has to it. Even though I enjoy the eventful stereotypical city setting of Oakland, I also enjoy exploring the more quiet areas of the city. "
   ]
  }
 ],
 "metadata": {
  "kernelspec": {
   "display_name": "Python 3 (ipykernel)",
   "language": "python",
   "name": "python3"
  },
  "language_info": {
   "codemirror_mode": {
    "name": "ipython",
    "version": 3
   },
   "file_extension": ".py",
   "mimetype": "text/x-python",
   "name": "python",
   "nbconvert_exporter": "python",
   "pygments_lexer": "ipython3",
   "version": "3.12.4"
  }
 },
 "nbformat": 4,
 "nbformat_minor": 5
}
