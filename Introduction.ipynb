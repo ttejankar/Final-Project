{
 "cells": [
  {
   "cell_type": "markdown",
   "id": "ffb508cb-fc75-4d3b-aa89-a1c8eb505caa",
   "metadata": {},
   "source": [
    "# **Oakland - Home to our Pitt panthers, the best neighborhood in Pittsburgh**"
   ]
  },
  {
   "cell_type": "markdown",
   "id": "8a55ba86-ec65-47c7-8a6b-06fb63e525af",
   "metadata": {},
   "source": [
    "![OklandImage](https://www.pittsburghmagazine.com/content/uploads/data-import/870878c4/oakland-cathedral.jpg)"
   ]
  },
  {
   "cell_type": "markdown",
   "id": "13c804e7-313a-4810-927d-65486a054971",
   "metadata": {},
   "source": [
    "#### __Introduction__"
   ]
  },
  {
   "cell_type": "markdown",
   "id": "00a39a1f-86d9-4d82-b45d-1d49889e1ea6",
   "metadata": {},
   "source": [
    "Our project aims to highlight why Oakland stands out as the best neigborhood to live in within the city of Pittsburgh. Our approach as a team was to analyze several factors of the neighborhood such as the quality of life, community opportunity/engagement, and a fun factor of the neighborhood. By comparing and evaluating these aspects, we've aquired a deeper understanding of why Oakland is such a desirable place to call home."
   ]
  },
  {
   "cell_type": "markdown",
   "id": "24997477-5e66-4be9-9597-467fd336a497",
   "metadata": {},
   "source": [
    "#### **Metrics**"
   ]
  },
  {
   "cell_type": "markdown",
   "id": "790696a9-7a40-406a-9616-263e621bba1b",
   "metadata": {},
   "source": [
    "* **Quality of life** - proximity to public transport and work spaces"
   ]
  },
  {
   "cell_type": "markdown",
   "id": "c3dc07c0-f9cd-49c6-9439-060677eefff3",
   "metadata": {},
   "source": [
    "Dataset: Pittsburgh SNAP Census Data - Transportation 2010 - CKAN\n",
    "[Transportation 2010](https://data.wprdc.org/dataset/pgh/resource/5d61b60b-bd25-4c33-8420-e31a9135ec6e)"
   ]
  },
  {
   "cell_type": "markdown",
   "id": "e7257b22-4b88-40e1-a80a-74534d2f2d4f",
   "metadata": {},
   "source": [
    "*Scored out of 40 points*"
   ]
  },
  {
   "cell_type": "markdown",
   "id": "f0091c92-5649-4612-8575-c708284745cf",
   "metadata": {},
   "source": [
    "* **Community Opportunity/Engagement** - City Facilities"
   ]
  },
  {
   "cell_type": "markdown",
   "id": "83b6234a-ee13-4a1b-a4c7-a56114054f19",
   "metadata": {},
   "source": [
    "Dataset: City of Pittsburgh Facilities - City Facilities - CKAN\n",
    "[City Facilities](https://data.wprdc.org/dataset/city-of-pittsburgh-facilities/resource/fbb50b02-2879-47cd-abea-ae697ec05170)"
   ]
  },
  {
   "cell_type": "markdown",
   "id": "d953c281-899a-4b78-b042-89b1928e4082",
   "metadata": {},
   "source": [
    "*Scored out of 40 points*"
   ]
  },
  {
   "cell_type": "markdown",
   "id": "0b0fdff2-0174-4b61-9619-f642838fbe38",
   "metadata": {},
   "source": [
    "* **Whimsy** - City of Pittsburgh playgrounds "
   ]
  },
  {
   "cell_type": "markdown",
   "id": "eeaaf3c9-d21a-497c-a042-11d3b85d37ba",
   "metadata": {},
   "source": [
    "Dataset: City of Pittsburgh playgrounds - City Parks - CKAN\n",
    "[City Playgrounds](https://data.wprdc.org/dataset/playgrounds/resource/47350364-44a8-4d15-b6e0-5f79ddff9367)"
   ]
  },
  {
   "cell_type": "markdown",
   "id": "68a69968-c495-4587-a229-18c2b8699a07",
   "metadata": {},
   "source": [
    "*Scored out of 20 points*"
   ]
  },
  {
   "cell_type": "markdown",
   "id": "75f93d3c-9a41-42a5-981d-6a5da29610de",
   "metadata": {},
   "source": [
    "----------------------------------------"
   ]
  }
 ],
 "metadata": {
  "kernelspec": {
   "display_name": "Python 3 (ipykernel)",
   "language": "python",
   "name": "python3"
  },
  "language_info": {
   "codemirror_mode": {
    "name": "ipython",
    "version": 3
   },
   "file_extension": ".py",
   "mimetype": "text/x-python",
   "name": "python",
   "nbconvert_exporter": "python",
   "pygments_lexer": "ipython3",
   "version": "3.12.4"
  }
 },
 "nbformat": 4,
 "nbformat_minor": 5
}
