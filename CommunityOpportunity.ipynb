{
 "cells": [
  {
   "cell_type": "markdown",
   "id": "4f15c8c5-6510-4311-975b-ddf6fdc95c91",
   "metadata": {},
   "source": [
    "### Community Opportunity/Engagment - City Facilities"
   ]
  },
  {
   "cell_type": "markdown",
   "id": "c22378bf-1e94-4310-8ffd-5315fb070989",
   "metadata": {},
   "source": [
    "Community engagement creates a sense of belonging among residents, creating stronger bonds between several groups of people. Creating bonds in larger spaces with more opportunities encourages an individual to discover more about their interests and increases the chances of them finding community."
   ]
  },
  {
   "cell_type": "markdown",
   "id": "15f42903-50e2-43d6-9abf-224d88d98028",
   "metadata": {},
   "source": [
    "Number of facilities in each neighborhood"
   ]
  },
  {
   "cell_type": "code",
   "execution_count": 5,
   "id": "f06b48c9-38a9-4d49-8d90-99d2f2981df3",
   "metadata": {},
   "outputs": [
    {
     "name": "stdout",
     "output_type": "stream",
     "text": [
      "neighborhood\n",
      "Highland Park          30\n",
      "Squirrel Hill South    29\n",
      "Perry North            20\n",
      "Brookline              19\n",
      "Strip District         15\n",
      "                       ..\n",
      "Fineview                1\n",
      "Fairywood               1\n",
      "Crafton Heights         1\n",
      "Bon Air                 1\n",
      "Middle Hill             1\n",
      "Name: count, Length: 75, dtype: int64\n"
     ]
    }
   ],
   "source": [
    "import pandas as pd\n",
    "df = pd.read_csv('pittsburgh_city_facilities.csv')\n",
    "\n",
    "#gets the count of each unique instance in the 'neighborhood' column\n",
    "neighborhood_counts = df['neighborhood'].value_counts()\n",
    "\n",
    "#prints the counts for each neighborhood in Pittsburgh\n",
    "print(neighborhood_counts)"
   ]
  },
  {
   "cell_type": "markdown",
   "id": "c478f9ec-5f5d-483a-9a2a-7f70e169730a",
   "metadata": {},
   "source": [
    "Number of facilities in Oakland"
   ]
  },
  {
   "cell_type": "code",
   "execution_count": 40,
   "id": "a13b437b-5a99-4589-8162-94323ae6a454",
   "metadata": {},
   "outputs": [
    {
     "name": "stdout",
     "output_type": "stream",
     "text": [
      "      Neighborhood  Count\n",
      "0    North Oakland      3\n",
      "1    South Oakland      2\n",
      "2     West Oakland      1\n",
      "3  Central Oakland      1\n"
     ]
    }
   ],
   "source": [
    "import pandas as pd\n",
    "df = pd.read_csv('pittsburgh_city_facilities.csv')\n",
    "\n",
    "#fliters rows where the 'neighborhood' column contains the word 'Oakland'\n",
    "oakland_neighborhoods = df[df['neighborhood'].str.contains('Oakland', case=False, na=False)]\n",
    "\n",
    "#gets the count of each instance of 'Oakland' neighborhoods\n",
    "oakland_counts = oakland_neighborhoods['neighborhood'].value_counts().reset_index()\n",
    "\n",
    "#creates a table\n",
    "oakland_counts.columns = ['Neighborhood', 'Count']\n",
    "print(oakland_counts)"
   ]
  },
  {
   "cell_type": "markdown",
   "id": "0aefd27e-39fe-4ca6-93a4-79c9f6dd480f",
   "metadata": {},
   "source": [
    "Oakland has a total of **7** recreational facilities."
   ]
  },
  {
   "cell_type": "markdown",
   "id": "cb86df9e-3aa8-4def-b25e-2e39426de31b",
   "metadata": {},
   "source": [
    "Based on the number alone, Oakland does not seem to have many facilities compared to the other neighborhoods."
   ]
  },
  {
   "cell_type": "markdown",
   "id": "2f1667cd-b3fe-477e-af2b-5df34ac756e4",
   "metadata": {},
   "source": [
    "However, with further research, we found that almost each Oakland facility is larger than many of the facilities in neighborhoods with a greater amount (e.g. Highland Park, Squirrel Hill South)."
   ]
  },
  {
   "cell_type": "markdown",
   "id": "1f941db3-6985-4f56-8583-5ccc48cda9e1",
   "metadata": {},
   "source": [
    "The size of a recreational facility plays a major role in the amount of member engagement and the opportunities that it offers. With a bigger facility, more activities are able to be offered, and with more space for more members, you are likely to meet more people that share the same hobbies and interests that you do, ultimately allowing you to find a sense of community. "
   ]
  },
  {
   "cell_type": "markdown",
   "id": "84fc71c3-bd76-4560-ac38-f431b2e4a696",
   "metadata": {},
   "source": [
    "Based on the facilities themselves along with their sizes, the score for this submetric is 32/40."
   ]
  }
 ],
 "metadata": {
  "kernelspec": {
   "display_name": "Python 3 (ipykernel)",
   "language": "python",
   "name": "python3"
  },
  "language_info": {
   "codemirror_mode": {
    "name": "ipython",
    "version": 3
   },
   "file_extension": ".py",
   "mimetype": "text/x-python",
   "name": "python",
   "nbconvert_exporter": "python",
   "pygments_lexer": "ipython3",
   "version": "3.12.4"
  }
 },
 "nbformat": 4,
 "nbformat_minor": 5
}
